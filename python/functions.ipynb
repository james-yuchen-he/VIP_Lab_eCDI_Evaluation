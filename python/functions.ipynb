{
 "cells": [
  {
   "cell_type": "code",
   "execution_count": null,
   "metadata": {},
   "outputs": [],
   "source": [
    "import os.path\n",
    "import scipy.io\n",
    "import numpy as np\n",
    "import pdb"
   ]
  },
  {
   "cell_type": "markdown",
   "metadata": {},
   "source": [
    "## getPatientData()"
   ]
  },
  {
   "cell_type": "code",
   "execution_count": null,
   "metadata": {},
   "outputs": [],
   "source": [
    "def getPatientData():\n",
    "    import scipy.io\n",
    "    \"\"\"\n",
    "    Read the data from the stray .mat files and store it in a\n",
    "    list of dictionaries, with each list element containing a patient\n",
    "    e.g.\n",
    "        patients = \n",
    "    \n",
    "        1x104 list with each entry being a dict with fields:\n",
    "        \n",
    "            adc       | (144x144x26) ndarray uint16\n",
    "            cdi       | (144x144x26) ndarray float64\n",
    "            pMask     | (144x144x26) ndarray bool\n",
    "            numTumor  | int\n",
    "            patientID | str\n",
    "            tumors    | dict\n",
    "            \n",
    "        patients[2]['tumors'] = \n",
    "        \n",
    "        a dict with fields:\n",
    "        \n",
    "            gleasonScore | list of int\n",
    "            lesion       | list of (144x144x26) ndarray bool\n",
    "    \n",
    "    \"\"\"\n",
    "    patientID = scipy.io.loadmat('../patientID.mat')['patientID']\n",
    "    numPatients = len(patientID)\n",
    "\n",
    "    patientIDWithTumor = scipy.io.loadmat('../posID.mat')['caseID']\n",
    "    numPatientsWithTumor = len(patientIDWithTumor)\n",
    "    \n",
    "    patients = [dict() for x in range(numPatients)]\n",
    "    \n",
    "    for i in range(numPatients):\n",
    "        path = \"../100_original_anonymized_images_ExportedMatlab/\" + patientID[i] + '/'\n",
    "        patients[i] = {\n",
    "            \"adc\": scipy.io.loadmat(path + 'ADC_' + patientID[i] + '.mat')['ADC'],\n",
    "            \"cdi\": scipy.io.loadmat(path + 'CDI_matlab_' + patientID[i] + '.mat')['CDI_matlab'],\n",
    "            \"pMask\": np.array(scipy.io.loadmat(path + 'PMask0_' + patientID[i] + '.mat')['Mask0'],dtype=bool),\n",
    "            \"numTumor\": 0,\n",
    "            \"patientID\": patientID[i]\n",
    "        }\n",
    "        lesionFilePath = path + 'Lesion_' + patientID[i] + '.mat'\n",
    "        if os.path.exists(lesionFilePath):\n",
    "            lesionData = scipy.io.loadmat(lesionFilePath)['Lesion']\n",
    "            lesionInfo = scipy.io.loadmat(path + 'Lesion_info_' + patientID[i] + '.mat')['Lesion_info']\n",
    "            patients[i][\"numTumor\"] = len(lesionInfo[0])\n",
    "            patients[i][\"tumors\"] = {\n",
    "                \"gleasonScore\": [lesionInfo[0][j] for j in range(len(lesionInfo[0]))],\n",
    "                \"lesion\": [np.array(lesionData[0][j],dtype=bool) for j in range(len(lesionInfo[0]))]\n",
    "            }\n",
    "    return [patients, numPatients, numPatientsWithTumor]"
   ]
  },
  {
   "cell_type": "markdown",
   "metadata": {},
   "source": [
    "## getCancerPixels()"
   ]
  },
  {
   "cell_type": "code",
   "execution_count": null,
   "metadata": {},
   "outputs": [],
   "source": [
    "def getCancerPixels(patient,modality,cancer):\n",
    "    \"\"\"\n",
    "    Takes a patient dictionary as input and return an array that contains \n",
    "    all the pixels identified as either cancerous or non-cancerous\n",
    "    @input: patient: a dictionary containing all relevant info about a patient\n",
    "    @input modality: a string indicating adc or cdi\n",
    "    @input: cancer: a bool indicating whether the pixels should be cancerous or not\n",
    "    @output: an array containing all the identified pixels of the given modality\n",
    "    \"\"\"\n",
    "    cancerMask = getCombinedCancerMask(patient)\n",
    "    try:\n",
    "        return patient[modality][np.logical_and(patient[\"pMask\"]==1,cancerMask==int(cancer))]\n",
    "    except:\n",
    "        print(\"Unrecognized modality.\")\n",
    "        return 0\n",
    "    "
   ]
  },
  {
   "cell_type": "markdown",
   "metadata": {},
   "source": [
    "## getCombinedCancerMask()"
   ]
  },
  {
   "cell_type": "code",
   "execution_count": null,
   "metadata": {},
   "outputs": [],
   "source": [
    "def getCombinedCancerMask(patient):\n",
    "    if patient['numTumor'] == 0:\n",
    "        return np.zeros(np.shape(patient['pMask']))\n",
    "    else:\n",
    "        cancerMask = np.zeros(np.shape(patient['pMask']), dtype=bool)\n",
    "        for i in range(patient[\"numTumor\"]):\n",
    "            if patient[\"tumors\"][\"gleasonScore\"][i] < 7:\n",
    "                continue\n",
    "            cancerMask[np.logical_or(cancerMask == 1,patient[\"tumors\"][\"lesion\"][i] == 1)] = 1\n",
    "    return cancerMask\n",
    "    "
   ]
  }
 ],
 "metadata": {
  "kernelspec": {
   "display_name": "Python 3",
   "language": "python",
   "name": "python3"
  },
  "language_info": {
   "codemirror_mode": {
    "name": "ipython",
    "version": 3
   },
   "file_extension": ".py",
   "mimetype": "text/x-python",
   "name": "python",
   "nbconvert_exporter": "python",
   "pygments_lexer": "ipython3",
   "version": "3.7.3"
  }
 },
 "nbformat": 4,
 "nbformat_minor": 2
}
