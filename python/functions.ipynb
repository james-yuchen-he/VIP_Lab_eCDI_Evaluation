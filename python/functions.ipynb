{
 "cells": [
  {
   "cell_type": "code",
   "execution_count": 1,
   "metadata": {},
   "outputs": [],
   "source": [
    "import os.path\n",
    "import scipy.io\n",
    "import scipy.stats\n",
    "import numpy as np\n",
    "from sklearn.metrics import confusion_matrix"
   ]
  },
  {
   "cell_type": "markdown",
   "metadata": {},
   "source": [
    "## getPatientData()"
   ]
  },
  {
   "cell_type": "code",
   "execution_count": 2,
   "metadata": {},
   "outputs": [],
   "source": [
    "def getPatientData():\n",
    "    import scipy.io\n",
    "    \"\"\"\n",
    "    Read the data from the stray .mat files and store it in a\n",
    "    list of dictionaries, with each list element containing a patient\n",
    "    e.g.\n",
    "        patients = \n",
    "    \n",
    "        1x104 list with each entry being a dict with fields:\n",
    "        \n",
    "            adc       | (144x144x26) ndarray uint16\n",
    "            cdi       | (144x144x26) ndarray float64\n",
    "            pMask     | (144x144x26) ndarray bool\n",
    "            numTumor  | int\n",
    "            patientID | str\n",
    "            tumors    | dict\n",
    "            \n",
    "        patients[2]['tumors'] = \n",
    "        \n",
    "        a dict with fields:\n",
    "        \n",
    "            gleasonScore | list of int\n",
    "            lesion       | list of (144x144x26) ndarray bool\n",
    "    \n",
    "    \"\"\"\n",
    "    patientID = scipy.io.loadmat('../patientID.mat')['patientID']\n",
    "    numPatients = len(patientID)\n",
    "\n",
    "    patientIDWithTumor = scipy.io.loadmat('../posID.mat')['caseID']\n",
    "    numPatientsWithTumor = len(patientIDWithTumor)\n",
    "    \n",
    "    patients = [dict() for x in range(numPatients)]\n",
    "    \n",
    "    for i in range(numPatients):\n",
    "        path = \"../100_original_anonymized_images_ExportedMatlab/\" + patientID[i] + '/'\n",
    "        patients[i] = {\n",
    "            \"adc\": scipy.io.loadmat(path + 'ADC_' + patientID[i] + '.mat')['ADC'],\n",
    "            \"cdi\": scipy.io.loadmat(path + 'CDI_matlab_' + patientID[i] + '.mat')['CDI_matlab'],\n",
    "            \"pMask\": np.array(scipy.io.loadmat(path + 'PMask0_' + patientID[i] + '.mat')['Mask0'],dtype=bool),\n",
    "            \"numTumor\": 0,\n",
    "            \"patientID\": patientID[i]\n",
    "        }\n",
    "        lesionFilePath = path + 'Lesion_' + patientID[i] + '.mat'\n",
    "        if os.path.exists(lesionFilePath):\n",
    "            lesionData = scipy.io.loadmat(lesionFilePath)['Lesion']\n",
    "            lesionInfo = scipy.io.loadmat(path + 'Lesion_info_' + patientID[i] + '.mat')['Lesion_info']\n",
    "            patients[i][\"numTumor\"] = len(lesionInfo[0])\n",
    "            patients[i][\"tumors\"] = {\n",
    "                \"gleasonScore\": [lesionInfo[0][j] for j in range(len(lesionInfo[0]))],\n",
    "                \"lesion\": [np.array(lesionData[0][j],dtype=bool) for j in range(len(lesionInfo[0]))]\n",
    "            }\n",
    "    return [patients, numPatients, numPatientsWithTumor]"
   ]
  },
  {
   "cell_type": "markdown",
   "metadata": {},
   "source": [
    "## getCancerPixels()"
   ]
  },
  {
   "cell_type": "code",
   "execution_count": 3,
   "metadata": {},
   "outputs": [],
   "source": [
    "def getCancerPixels(patient,modality,cancer):\n",
    "    \"\"\"\n",
    "    Takes a patient dictionary as input and return an array that contains \n",
    "    all the pixels identified as either cancerous or non-cancerous\n",
    "    @input: patient: a dictionary containing all relevant info about a patient\n",
    "    @input modality: a string indicating adc or cdi\n",
    "    @input: cancer: a bool indicating whether the pixels should be cancerous or not\n",
    "    @output: an array containing all the identified pixels of the given modality\n",
    "    \"\"\"\n",
    "    cancerMask = getCombinedCancerMask(patient)\n",
    "    try:\n",
    "        return patient[modality][np.logical_and(patient[\"pMask\"]==1,cancerMask==int(cancer))]\n",
    "    except:\n",
    "        print(\"Unrecognized modality.\")\n",
    "        return 0\n",
    "    "
   ]
  },
  {
   "cell_type": "markdown",
   "metadata": {},
   "source": [
    "## getCombinedCancerMask()"
   ]
  },
  {
   "cell_type": "code",
   "execution_count": 4,
   "metadata": {},
   "outputs": [],
   "source": [
    "def getCombinedCancerMask(patient):\n",
    "    if patient['numTumor'] == 0:\n",
    "        return np.zeros(np.shape(patient['pMask']))\n",
    "    else:\n",
    "        cancerMask = np.zeros(np.shape(patient['pMask']), dtype=bool)\n",
    "        for i in range(patient[\"numTumor\"]):\n",
    "            if patient[\"tumors\"][\"gleasonScore\"][i] < 7:\n",
    "                continue\n",
    "            cancerMask[np.logical_or(cancerMask == 1,patient[\"tumors\"][\"lesion\"][i] == 1)] = 1\n",
    "    return cancerMask\n",
    "    "
   ]
  },
  {
   "cell_type": "markdown",
   "metadata": {},
   "source": [
    "## getDistWBoundary()"
   ]
  },
  {
   "cell_type": "code",
   "execution_count": 5,
   "metadata": {},
   "outputs": [],
   "source": [
    "def getDistsWBoundary(cancerPixels,nonCancerPixels):\n",
    "\n",
    "    dist = scipy.stats.norm\n",
    "\n",
    "    mu_cancer,     std_cancer     = dist.fit(cancerPixels)\n",
    "    mu_non_cancer, std_non_cancer = dist.fit(nonCancerPixels)\n",
    "\n",
    "    x_cancer     = [mu_cancer-4    *std_cancer,    mu_cancer    +4*std_cancer]\n",
    "    x_non_cancer = [mu_non_cancer-4*std_non_cancer,mu_non_cancer+4*std_non_cancer]\n",
    "\n",
    "    x_lb = x_cancer[0] if x_cancer[0] < x_non_cancer[0] else x_non_cancer[0]\n",
    "    x_ub = x_cancer[1] if x_cancer[1] > x_non_cancer[1] else x_non_cancer[1]\n",
    "\n",
    "    x = np.linspace(x_lb,x_ub,200)\n",
    "\n",
    "    y_cancer     = dist.pdf(x, mu_cancer,    std_cancer)\n",
    "    y_non_cancer = dist.pdf(x, mu_non_cancer,std_non_cancer)\n",
    "\n",
    "    boundary = x[np.argmin(np.abs(y_cancer / y_non_cancer -1))]\n",
    "    \n",
    "    return [x,y_cancer,y_non_cancer,boundary]"
   ]
  },
  {
   "cell_type": "markdown",
   "metadata": {},
   "source": [
    "## splitModalityPixel()"
   ]
  },
  {
   "cell_type": "code",
   "execution_count": 6,
   "metadata": {},
   "outputs": [],
   "source": [
    "def splitModalityPixel(training_set=None):\n",
    "    assert type(training_set == \"numpy.ndarray\"), \"The input parameter must be a numpy array\"\n",
    "    assert training_set.all() != None, \"empty training set\"\n",
    "    assert  len(training_set) != 0, \"empty training set\"\n",
    "    \n",
    "    adcCancerPixels,    cdiCancerPixels    = np.array([]), np.array([])\n",
    "    adcNonCancerPixels, cdiNonCancerPixels = np.array([]), np.array([])\n",
    "\n",
    "    for patient in training_set:\n",
    "        if patient[\"numTumor\"] != 0:\n",
    "            cancerPixelsTmp = getCancerPixels(patient,\"adc\",True)\n",
    "            adcCancerPixels = np.append(adcCancerPixels, cancerPixelsTmp)\n",
    "            cancerPixelsTmp = getCancerPixels(patient,\"cdi\",True)\n",
    "            cdiCancerPixels = np.append(cdiCancerPixels, cancerPixelsTmp)\n",
    "        nonCancerPixelsTmp = getCancerPixels(patient,\"adc\",False)\n",
    "        adcNonCancerPixels = np.append(adcNonCancerPixels, nonCancerPixelsTmp)\n",
    "        nonCancerPixelsTmp = getCancerPixels(patient,\"cdi\",False)\n",
    "        cdiNonCancerPixels = np.append(cdiNonCancerPixels, nonCancerPixelsTmp)\n",
    "    \n",
    "    return adcCancerPixels, adcNonCancerPixels, cdiCancerPixels, cdiNonCancerPixels"
   ]
  },
  {
   "cell_type": "markdown",
   "metadata": {},
   "source": [
    "## evaluate()"
   ]
  },
  {
   "cell_type": "code",
   "execution_count": 7,
   "metadata": {},
   "outputs": [],
   "source": [
    "def evaluate(test_set, adc_threshold, cdi_threshold):\n",
    "    \n",
    "    cdi_cm = np.zeros(dtype=int,shape=(2,2))\n",
    "    adc_cm = np.zeros(dtype=int,shape=(2,2))\n",
    "    \n",
    "    for patient in test_set:\n",
    "        cdi_prediction = np.zeros(shape=patient[\"pMask\"].shape, dtype=bool)\n",
    "        cdi_prediction[np.logical_and(patient[\"pMask\"] == True, patient[\"cdi\"] > cdi_threshold)] = True\n",
    "        cdi_cm += confusion_matrix(getCombinedCancerMask(patient)[patient[\"pMask\"] == True].flatten(),\n",
    "                                   cdi_prediction[patient[\"pMask\"] == True].flatten())\n",
    "        \n",
    "        adc_prediction = np.zeros(shape=patient[\"pMask\"].shape, dtype=bool)\n",
    "        adc_prediction[np.logical_and(patient[\"pMask\"] == True, patient[\"adc\"] < adc_threshold)] = True\n",
    "        adc_cm += confusion_matrix(getCombinedCancerMask(patient)[patient[\"pMask\"] == True].flatten(),\n",
    "                                   adc_prediction[patient[\"pMask\"] == True].flatten())\n",
    "\n",
    "    return adc_cm, cdi_cm"
   ]
  },
  {
   "cell_type": "code",
   "execution_count": null,
   "metadata": {},
   "outputs": [],
   "source": []
  }
 ],
 "metadata": {
  "kernelspec": {
   "display_name": "Python 3",
   "language": "python",
   "name": "python3"
  },
  "language_info": {
   "codemirror_mode": {
    "name": "ipython",
    "version": 3
   },
   "file_extension": ".py",
   "mimetype": "text/x-python",
   "name": "python",
   "nbconvert_exporter": "python",
   "pygments_lexer": "ipython3",
   "version": "3.7.1"
  }
 },
 "nbformat": 4,
 "nbformat_minor": 2
}
