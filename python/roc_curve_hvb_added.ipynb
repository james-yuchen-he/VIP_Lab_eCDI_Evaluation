{
 "cells": [
  {
   "cell_type": "code",
   "execution_count": 7,
   "metadata": {},
   "outputs": [],
   "source": [
    "from ipynb.fs.full.functions import getCancerPixels\n",
    "from sklearn.metrics import auc\n",
    "import matplotlib.pyplot as plt\n",
    "import numpy as np\n",
    "import os"
   ]
  },
  {
   "cell_type": "code",
   "execution_count": 8,
   "metadata": {},
   "outputs": [],
   "source": [
    "def getPatientData():\n",
    "    import scipy.io\n",
    "    \"\"\"\n",
    "    Read the data from the stray .mat files and store it in a\n",
    "    list of dictionaries, with each list element containing a patient\n",
    "    e.g.\n",
    "        patients = \n",
    "    \n",
    "        1x104 list with each entry being a dict with fields:\n",
    "        \n",
    "            adc       | (144x144x26) ndarray uint16\n",
    "            cdi       | (144x144x26) ndarray float64\n",
    "            pMask     | (144x144x26) ndarray bool\n",
    "            numTumor  | int\n",
    "            patientID | str\n",
    "            tumors    | dict\n",
    "            \n",
    "        patients[2]['tumors'] = \n",
    "        \n",
    "        a dict with fields:\n",
    "        \n",
    "            gleasonScore | list of int\n",
    "            lesion       | list of (144x144x26) ndarray bool\n",
    "    \n",
    "    \"\"\"\n",
    "    patientID = scipy.io.loadmat('../patientID.mat')['patientID']\n",
    "    numPatients = len(patientID)\n",
    "\n",
    "    patientIDWithTumor = scipy.io.loadmat('../posID.mat')['caseID']\n",
    "    numPatientsWithTumor = len(patientIDWithTumor)\n",
    "    \n",
    "    patients = [dict() for x in range(numPatients)]\n",
    "    \n",
    "    for i in range(numPatients):\n",
    "        path = \"../100_original_anonymized_images_ExportedMatlab/\" + patientID[i] + '/'\n",
    "        patients[i] = {\n",
    "            \"adc\": scipy.io.loadmat(path + 'ADC_' + patientID[i] + '.mat')['ADC'],\n",
    "            \"cdi\": scipy.io.loadmat(path + 'CDI_matlab_' + patientID[i] + '.mat')['CDI_matlab'],\n",
    "            \"pMask\": np.array(scipy.io.loadmat(path + 'PMask0_' + patientID[i] + '.mat')['Mask0'],dtype=bool),\n",
    "            \"numTumor\": 0,\n",
    "            \"patientID\": patientID[i]\n",
    "        }\n",
    "        lesionFilePath = path + 'Lesion_' + patientID[i] + '.mat'\n",
    "        if os.path.exists(lesionFilePath):\n",
    "            lesionData = scipy.io.loadmat(lesionFilePath)['Lesion']\n",
    "            lesionInfo = scipy.io.loadmat(path + 'Lesion_info_' + patientID[i] + '.mat')['Lesion_info']\n",
    "            patients[i][\"numTumor\"] = len(lesionInfo[0])\n",
    "            patients[i][\"tumors\"] = {\n",
    "                \"gleasonScore\": [lesionInfo[0][j] for j in range(len(lesionInfo[0]))],\n",
    "                \"lesion\": [np.array(lesionData[0][j],dtype=bool) for j in range(len(lesionInfo[0]))]\n",
    "            }\n",
    "    return [patients, numPatients, numPatientsWithTumor]"
   ]
  },
  {
   "cell_type": "code",
   "execution_count": 9,
   "metadata": {},
   "outputs": [],
   "source": [
    "def getCancerPixels(patient,modality,cancer):\n",
    "    \"\"\"\n",
    "    Takes a patient dictionary as input and return an array that contains \n",
    "    all the pixels identified as either cancerous or non-cancerous\n",
    "    @input: patient: a dictionary containing all relevant info about a patient\n",
    "    @input modality: a string indicating adc or cdi\n",
    "    @input: cancer: a bool indicating whether the pixels should be cancerous or not\n",
    "    @output: an array containing all the identified pixels of the given modality\n",
    "    \"\"\"\n",
    "    cancerMask = getCombinedCancerMask(patient, modality)\n",
    "    try:\n",
    "        return patient[modality][cancerMask==int(cancer)]\n",
    "    except:\n",
    "        print(\"Unrecognized modality.\")\n",
    "        return 0\n",
    "\n",
    "def getCombinedCancerMask(patient, modality):\n",
    "    if patient['numTumor'] == 0:\n",
    "        return np.zeros(np.shape(patient[modality]))\n",
    "    else:\n",
    "        cancerMask = np.zeros(np.shape(patient[modality]), dtype=bool)\n",
    "        for i in range(patient[\"numTumor\"]):\n",
    "            if patient[\"tumors\"][\"gleasonScore\"][i] < 7:\n",
    "                continue\n",
    "            cancerMask[np.logical_or(cancerMask == 1,patient[\"tumors\"][\"lesion\"][i] == 1)] = 1\n",
    "    return cancerMask"
   ]
  },
  {
   "cell_type": "code",
   "execution_count": 10,
   "metadata": {},
   "outputs": [],
   "source": [
    "def splitModalityPixel(training_set=None):\n",
    "    assert type(training_set == \"numpy.ndarray\"), \"The input parameter must be a numpy array\"\n",
    "    assert training_set.all() != None, \"empty training set\"\n",
    "    assert  len(training_set) != 0, \"empty training set\"\n",
    "    \n",
    "    adcCancerPixels,    cdiCancerPixels    = np.array([]), np.array([])\n",
    "    adcNonCancerPixels, cdiNonCancerPixels = np.array([]), np.array([])\n",
    "\n",
    "    for patient in training_set:\n",
    "        if patient[\"numTumor\"] != 0:\n",
    "            cancerPixelsTmp = getCancerPixels(patient,\"adc\",True)\n",
    "            adcCancerPixels = np.append(adcCancerPixels, cancerPixelsTmp)\n",
    "            cancerPixelsTmp = getCancerPixels(patient,\"cdi\",True)\n",
    "            cdiCancerPixels = np.append(cdiCancerPixels, cancerPixelsTmp)\n",
    "        nonCancerPixelsTmp = getCancerPixels(patient,\"adc\",False)\n",
    "        adcNonCancerPixels = np.append(adcNonCancerPixels, nonCancerPixelsTmp)\n",
    "        nonCancerPixelsTmp = getCancerPixels(patient,\"cdi\",False)\n",
    "        cdiNonCancerPixels = np.append(cdiNonCancerPixels, nonCancerPixelsTmp)\n",
    "    \n",
    "    return adcCancerPixels, adcNonCancerPixels, cdiCancerPixels, cdiNonCancerPixels"
   ]
  },
  {
   "cell_type": "code",
   "execution_count": 11,
   "metadata": {},
   "outputs": [],
   "source": [
    "# Get patients\n",
    "[patients, numPatients, numPatientsWithTumor] = getPatientData()\n",
    "patients = np.array([item for item in patients if item[\"patientID\"] != \"P00000249\" and item[\"patientID\"] != \"P00000514\" and item[\"patientID\"] != \"P00000654\"])"
   ]
  },
  {
   "cell_type": "code",
   "execution_count": 12,
   "metadata": {},
   "outputs": [],
   "source": [
    "# get pixels by modality and cancer\n",
    "adcCancerPixels, adcNonCancerPixels, cdiCancerPixels, cdiNonCancerPixels = splitModalityPixel(patients)"
   ]
  },
  {
   "cell_type": "code",
   "execution_count": 18,
   "metadata": {},
   "outputs": [
    {
     "name": "stdout",
     "output_type": "stream",
     "text": "(2061,)\n(52750323,)\n(2061,)\n(52750323,)\n0.0\n65534.0\n0.0\n738.1567785245485\n"
    }
   ],
   "source": [
    "%\n",
    "print(adcCancerPixels.shape)\n",
    "print(adcNonCancerPixels.shape)\n",
    "print(cdiCancerPixels.shape)\n",
    "print(cdiNonCancerPixels.shape)\n",
    "min_adc = min(min(adcCancerPixels), min(adcNonCancerPixels))\n",
    "max_adc = max(max(adcCancerPixels), max(adcNonCancerPixels))\n",
    "print(min_adc)\n",
    "print(max_adc)\n",
    "min_cdi = min(min(cdiCancerPixels), min(cdiNonCancerPixels))\n",
    "max_cdi = max(max(cdiCancerPixels), max(cdiNonCancerPixels))\n",
    "print(min_cdi)\n",
    "print(max_cdi)\n",
    "thresholds_adc = np.linspace(-0.9999, 3476.01, num=10000)\n",
    "thresholds_cdi = np.linspace(-0.9999, 41.08, num=10000)\n",
    "#thresholds_adc = np.linspace(-1, 3500, num=500)\n",
    "#thresholds_cdi = np.linspace(-1, 42, num=500)\n",
    "\n",
    "# get adc fprs and tprs\n",
    "adc_fpr = []\n",
    "adc_tpr = []\n",
    "\n",
    "for threshold in thresholds_adc:\n",
    "    adc_tpr.append(len(adcCancerPixels[adcCancerPixels < threshold])/ len(adcCancerPixels))\n",
    "    adc_fpr.append(len(adcNonCancerPixels[adcNonCancerPixels < threshold])/len(adcNonCancerPixels))\n",
    "\n",
    "cdi_fpr = []\n",
    "cdi_tpr = []\n",
    "\n",
    "for threshold in thresholds_cdi:\n",
    "    cdi_tpr.append(len(cdiCancerPixels[cdiCancerPixels > threshold])/ len(cdiCancerPixels))\n",
    "    cdi_fpr.append(len(cdiNonCancerPixels[cdiNonCancerPixels > threshold])/len(cdiNonCancerPixels))\n",
    "\n",
    "from sklearn.metrics import auc\n",
    "adc_auc = auc(adc_fpr, adc_tpr)\n",
    "cdi_auc = auc(cdi_fpr, cdi_tpr)\n",
    "\n",
    "plt.figure(figsize=(5,5))\n",
    "plt.plot(adc_fpr, adc_tpr)\n",
    "plt.plot(cdi_fpr, cdi_tpr)\n",
    "plt.plot(adc_fpr, adc_fpr, \"--\")\n",
    "plt.xlim([0,1])\n",
    "plt.ylim([0,1])\n",
    "plt.title(\"ROC Curve\", fontsize=14)\n",
    "plt.ylabel('True Positive Rate', fontsize=12)\n",
    "plt.xlabel('False Positive Rate', fontsize=12)\n",
    "plt.legend([\"ADC (AUC = %.3f)\"%adc_auc,\"CDI (AUC = %.3f)\"%cdi_auc], loc = \"best\")\n",
    "plt.show()"
   ]
  },
  {
   "cell_type": "code",
   "execution_count": 14,
   "metadata": {},
   "outputs": [
    {
     "name": "stdout",
     "output_type": "stream",
     "text": "3365\n1169.1309444344436\n0.9000485201358563\n0.8461830082064142\n"
    }
   ],
   "source": [
    "# go through adc_tpr until 0.9 and 0.95 are hit\n",
    "thres9a = -1\n",
    "for i in range(len(adc_tpr)):\n",
    "    if thres9a == -1 and adc_tpr[i] >= 0.9:\n",
    "        thres9a = thresholds_adc[i]\n",
    "        print(i)\n",
    "        print(thres9a)\n",
    "        print(adc_tpr[i])\n",
    "        print(adc_fpr[i])\n",
    "        break"
   ]
  },
  {
   "cell_type": "code",
   "execution_count": 15,
   "metadata": {},
   "outputs": [
    {
     "name": "stdout",
     "output_type": "stream",
     "text": "240\n0.01011860186018576\n0.9155749636098981\n0.16768447086096516\n"
    }
   ],
   "source": [
    "thres9c = -1\n",
    "for i in range(len(cdi_tpr)):\n",
    "    if thres9c == -1 and cdi_tpr[len(cdi_tpr) - i - 1] >= 0.9:\n",
    "        thres9c = thresholds_cdi[len(cdi_tpr) - i - 1]\n",
    "        print(len(cdi_tpr) - i - 1)\n",
    "        print(thres9c)\n",
    "        print(cdi_tpr[len(cdi_tpr) - i - 1])\n",
    "        print(cdi_fpr[len(cdi_tpr) - i - 1])\n",
    "        break"
   ]
  },
  {
   "cell_type": "code",
   "execution_count": 16,
   "metadata": {},
   "outputs": [
    {
     "name": "stdout",
     "output_type": "stream",
     "text": "3727\n1295.011290849085\n0.9500242600679282\n0.8853226358443341\n"
    }
   ],
   "source": [
    "thres95a = -1\n",
    "for i in range(len(adc_tpr)):\n",
    "    if thres95a == -1 and adc_tpr[i] >= 0.95:\n",
    "        thres95a = thresholds_adc[i]\n",
    "        print(i)\n",
    "        print(thres95a)\n",
    "        print(adc_tpr[i])\n",
    "        print(adc_fpr[i])\n",
    "        break"
   ]
  },
  {
   "cell_type": "code",
   "execution_count": 17,
   "metadata": {},
   "outputs": [
    {
     "name": "stdout",
     "output_type": "stream",
     "text": "238\n0.0017017801780176978\n0.9534206695778749\n0.40302111515032807\n"
    }
   ],
   "source": [
    "thres95c = -1\n",
    "for i in range(len(cdi_tpr)):\n",
    "    if thres95c == -1 and cdi_tpr[len(cdi_tpr) - i - 1] >= 0.95:\n",
    "        thres95c = thresholds_cdi[len(cdi_tpr) - i - 1]\n",
    "        print(len(cdi_tpr) - i - 1)\n",
    "        print(thres95c)\n",
    "        print(cdi_tpr[len(cdi_tpr) - i - 1])\n",
    "        print(cdi_fpr[len(cdi_tpr) - i - 1])\n",
    "        break"
   ]
  },
  {
   "cell_type": "code",
   "execution_count": null,
   "metadata": {},
   "outputs": [],
   "source": []
  }
 ],
 "metadata": {
  "kernelspec": {
   "display_name": "Python 3.7.4 64-bit ('base': conda)",
   "language": "python",
   "name": "python37464bitbasecondac57434271f514b58bb62e1e36f8e77b8"
  },
  "language_info": {
   "codemirror_mode": {
    "name": "ipython",
    "version": 3
   },
   "file_extension": ".py",
   "mimetype": "text/x-python",
   "name": "python",
   "nbconvert_exporter": "python",
   "pygments_lexer": "ipython3",
   "version": "3.7.4-final"
  }
 },
 "nbformat": 4,
 "nbformat_minor": 2
}