{
 "cells": [
  {
   "cell_type": "code",
   "execution_count": 29,
   "metadata": {},
   "outputs": [],
   "source": [
    "from ipynb.fs.full.functions import getPatientData, getCancerPixels, getCombinedCancerMask\n",
    "\n",
    "import matplotlib.pyplot as plt\n",
    "import scipy.stats\n",
    "import numpy as np"
   ]
  },
  {
   "cell_type": "code",
   "execution_count": 30,
   "metadata": {},
   "outputs": [],
   "source": [
    "[patients, numPatients, numPatientsWithTumor] = getPatientData()\n",
    "patients = [item for item in patients if item[\"patientID\"] != \"P00000249\"]"
   ]
  },
  {
   "cell_type": "code",
   "execution_count": 31,
   "metadata": {},
   "outputs": [],
   "source": [
    "adcCancerPixels,    cdiCancerPixels    = np.array([]), np.array([])\n",
    "adcNonCancerPixels, cdiNonCancerPixels = np.array([]), np.array([])\n",
    "\n",
    "for patient in patients:\n",
    "    if patient[\"numTumor\"] != 0:\n",
    "        cancerPixelsTmp = getCancerPixels(patient,\"adc\",True)\n",
    "        adcCancerPixels = np.append(adcCancerPixels, cancerPixelsTmp)\n",
    "        cancerPixelsTmp = getCancerPixels(patient,\"cdi\",True)\n",
    "        cdiCancerPixels = np.append(cdiCancerPixels, cancerPixelsTmp)\n",
    "    nonCancerPixelsTmp = getCancerPixels(patient,\"adc\",False)\n",
    "    adcNonCancerPixels = np.append(adcNonCancerPixels, nonCancerPixelsTmp)\n",
    "    nonCancerPixelsTmp = getCancerPixels(patient,\"cdi\",False)\n",
    "    cdiNonCancerPixels = np.append(cdiNonCancerPixels, nonCancerPixelsTmp)"
   ]
  },
  {
   "cell_type": "code",
   "execution_count": 32,
   "metadata": {},
   "outputs": [],
   "source": [
    "dist = scipy.stats.norm\n",
    "\n",
    "mu_adc_cancer,     std_adc_cancer     = dist.fit(adcCancerPixels)\n",
    "mu_adc_non_cancer, std_adc_non_cancer = dist.fit(adcNonCancerPixels)\n",
    "\n",
    "x_adc_cancer_lower_bound = mu_adc_cancer    -4*std_adc_cancer\n",
    "x_adc_cancer_upper_bound = mu_adc_cancer    +4*std_adc_cancer\n",
    "x_adc_non_cancer_lower_bound = mu_adc_non_cancer-4*std_adc_non_cancer\n",
    "x_adc_non_cancer_upper_bound = mu_adc_non_cancer+4*std_adc_non_cancer\n",
    "\n",
    "x_adc_lower_bound = x_adc_cancer_lower_bound if x_adc_cancer_lower_bound < x_adc_non_cancer_lower_bound else x_adc_non_cancer_lower_bound\n",
    "x_adc_upper_bound = x_adc_cancer_upper_bound if x_adc_cancer_upper_bound > x_adc_non_cancer_upper_bound else x_adc_non_cancer_upper_bound\n",
    "\n",
    "x_adc = np.linspace(x_adc_lower_bound, x_adc_upper_bound, 200)\n",
    "\n",
    "y_adc_cancer     = dist.pdf(x_adc,    mu_adc_cancer,    std_adc_cancer)\n",
    "y_adc_non_cancer = dist.pdf(x_adc,mu_adc_non_cancer,std_adc_non_cancer)\n",
    "\n",
    "plt.figure(figsize=(10,7))\n",
    "plt.plot(x_adc,    y_adc_cancer)\n",
    "plt.plot(x_adc,y_adc_non_cancer)\n",
    "plt.title(\"ADC\")\n",
    "plt.xlabel(\"Intensity\")\n",
    "plt.ylabel(\"P( Intensity )\")\n",
    "plt.legend([\"Cancer\",\"Non-cancer\"])\n",
    "plt.show()"
   ]
  },
  {
   "cell_type": "code",
   "execution_count": 33,
   "metadata": {},
   "outputs": [],
   "source": [
    "dist = scipy.stats.norm\n",
    "\n",
    "mu_cdi_cancer,     std_cdi_cancer     = dist.fit(np.log(cdiCancerPixels[cdiCancerPixels>0]))\n",
    "mu_cdi_non_cancer, std_cdi_non_cancer = dist.fit(np.log(cdiNonCancerPixels[cdiNonCancerPixels>0]))\n",
    "\n",
    "x_cdi_cancer_lower_bound = mu_cdi_cancer    -4*std_cdi_cancer\n",
    "x_cdi_cancer_upper_bound = mu_cdi_cancer    +4*std_cdi_cancer\n",
    "x_cdi_non_cancer_lower_bound = mu_cdi_non_cancer - 4*std_cdi_non_cancer\n",
    "x_cdi_non_cancer_upper_bound = mu_cdi_non_cancer + 4*std_cdi_non_cancer\n",
    "\n",
    "x_cdi_lower_bound = x_cdi_cancer_lower_bound if x_cdi_cancer_lower_bound < x_cdi_non_cancer_lower_bound else x_cdi_non_cancer_lower_bound\n",
    "x_cdi_upper_bound = x_cdi_cancer_upper_bound if x_cdi_cancer_upper_bound > x_cdi_non_cancer_upper_bound else x_cdi_non_cancer_upper_bound\n",
    "\n",
    "x_cdi     = np.linspace(x_cdi_lower_bound, x_cdi_upper_bound, 200)\n",
    "\n",
    "y_cdi_cancer     = dist.pdf(x_cdi,    mu_cdi_cancer,    std_cdi_cancer)\n",
    "y_cdi_non_cancer = dist.pdf(x_cdi,mu_cdi_non_cancer,std_cdi_non_cancer)\n",
    "\n",
    "plt.figure(figsize=(10,7))\n",
    "plt.plot(x_cdi,    y_cdi_cancer)\n",
    "plt.plot(x_cdi,y_cdi_non_cancer)\n",
    "plt.title(\"CDI\")\n",
    "plt.xlabel(\"log(Intensity)\")\n",
    "plt.ylabel(\"P( log(Intensity) )\")\n",
    "plt.legend([\"Cancer\",\"Non-cancer\"])\n",
    "plt.show()"
   ]
  },
  {
   "cell_type": "code",
   "execution_count": 34,
   "metadata": {},
   "outputs": [],
   "source": [
    "adc_threshold = x_adc[np.argmin(np.abs(y_adc_cancer / y_adc_non_cancer -1))]\n",
    "cdi_threshold = x_cdi[np.argmin(np.abs(y_cdi_cancer / y_cdi_non_cancer -1))]\n",
    "print(\"ADC Decision boundary:\")\n",
    "print(f'Cancer: x < {adc_threshold} Non-Cancer: x > {adc_threshold}')\n",
    "print(\"CDI Decision boundary:\")\n",
    "print(f'Cancer: x > {cdi_threshold} Non-Cancer: x > {cdi_threshold}')"
   ]
  },
  {
   "cell_type": "markdown",
   "metadata": {},
   "outputs": [],
   "source": [
    "### Confusion Matrix"
   ]
  },
  {
   "cell_type": "code",
   "execution_count": 0,
   "metadata": {},
   "outputs": [],
   "source": [
    "adc_threshold = x_adc[np.argmin(np.abs(y_adc_cancer / y_adc_non_cancer -1))]\n",
    "print(adc_threshold)"
   ]
  }
 ],
 "metadata": {
  "kernelspec": {
   "display_name": "Python 3",
   "language": "python",
   "name": "python3"
  },
  "language_info": {
   "codemirror_mode": {
    "name": "ipython",
    "version": 3
   },
   "file_extension": ".py",
   "mimetype": "text/x-python",
   "name": "python",
   "nbconvert_exporter": "python",
   "pygments_lexer": "ipython3",
   "version": "3.7.3"
  }
 },
 "nbformat": 4,
 "nbformat_minor": 2
}