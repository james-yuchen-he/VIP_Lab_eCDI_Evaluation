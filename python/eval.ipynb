{
 "cells": [
  {
   "cell_type": "code",
   "execution_count": 1,
   "metadata": {},
   "outputs": [],
   "source": [
    "from ipynb.fs.full.functions import getPatientData, getCancerPixels, getCombinedCancerMask\n",
    "\n",
    "import matplotlib.pyplot as plt\n",
    "import scipy.stats\n",
    "import numpy as np\n",
    "from sklearn.metrics import confusion_matrix\n",
    "from sklearn.model_selection import KFold\n",
    "import math"
   ]
  },
  {
   "cell_type": "code",
   "execution_count": 3,
   "metadata": {},
   "outputs": [
    {
     "ename": "SyntaxError",
     "evalue": "unexpected EOF while parsing (<ipython-input-3-8ce8bd4f412d>, line 10)",
     "output_type": "error",
     "traceback": [
      "\u001b[0;36m  File \u001b[0;32m\"<ipython-input-3-8ce8bd4f412d>\"\u001b[0;36m, line \u001b[0;32m10\u001b[0m\n\u001b[0;31m    for i in range(4):\u001b[0m\n\u001b[0m                      ^\u001b[0m\n\u001b[0;31mSyntaxError\u001b[0m\u001b[0;31m:\u001b[0m unexpected EOF while parsing\n"
     ]
    }
   ],
   "source": [
    "[patients, numPatients, numPatientsWithTumor] = getPatientData()\n",
    "patients = [item for item in patients if item[\"patientID\"] != \"P00000249\"]\n",
    "adc_confusion_matrix_average = np.zeros(shape=(2,2))\n",
    "cdi_confusion_matrix_average = np.zeros(shape=(2,2))\n",
    "\n",
    "kf = KFold(n_splits=2, shuffle=True)\n",
    "for patients_train, patients_test in kf.split():\n",
    "    adc_threshold, cdi_threshold = train(patients_train)\n",
    "    adc_confusion_matrix, cdi_confusion_matrix = evaluate(patients_test,adc_threshold, cdi_threshold)\n",
    "    for i in range(4):\n",
    "        adc_confusion_matrix_average[i] += adc_confusion_matrix[i]\n",
    "        cdi_confusion_matrix_average[i] += cdi_confusion_matrix[i]\n",
    "\n",
    "for i in range(4):\n",
    "    adc_confusion_matrix_average[i] /= len(adc_confusion_matrix[i]\n",
    "    cdi_confusion_matrix_average[i] /= len(cdi_confusion_matrix[i]\n",
    "\n"
   ]
  },
  {
   "cell_type": "code",
   "execution_count": 322,
   "metadata": {},
   "outputs": [],
   "source": [
    "adcCancerPixels,    cdiCancerPixels    = np.array([]), np.array([])\n",
    "adcNonCancerPixels, cdiNonCancerPixels = np.array([]), np.array([])\n",
    "\n",
    "for patient in patients:\n",
    "    if patient[\"numTumor\"] != 0:\n",
    "        cancerPixelsTmp = getCancerPixels(patient,\"adc\",True)\n",
    "        adcCancerPixels = np.append(adcCancerPixels, cancerPixelsTmp)\n",
    "        cancerPixelsTmp = getCancerPixels(patient,\"cdi\",True)\n",
    "        cdiCancerPixels = np.append(cdiCancerPixels, cancerPixelsTmp)\n",
    "    nonCancerPixelsTmp = getCancerPixels(patient,\"adc\",False)\n",
    "    adcNonCancerPixels = np.append(adcNonCancerPixels, nonCancerPixelsTmp)\n",
    "    nonCancerPixelsTmp = getCancerPixels(patient,\"cdi\",False)\n",
    "    cdiNonCancerPixels = np.append(cdiNonCancerPixels, nonCancerPixelsTmp)"
   ]
  },
  {
   "cell_type": "code",
   "execution_count": 323,
   "metadata": {},
   "outputs": [],
   "source": [
    "dist = scipy.stats.norm\n",
    "\n",
    "mu_adc_cancer,     std_adc_cancer     = dist.fit(adcCancerPixels)\n",
    "mu_adc_non_cancer, std_adc_non_cancer = dist.fit(adcNonCancerPixels)\n",
    "\n",
    "x_adc_cancer_lower_bound = mu_adc_cancer    -4*std_adc_cancer\n",
    "x_adc_cancer_upper_bound = mu_adc_cancer    +4*std_adc_cancer\n",
    "x_adc_non_cancer_lower_bound = mu_adc_non_cancer-4*std_adc_non_cancer\n",
    "x_adc_non_cancer_upper_bound = mu_adc_non_cancer+4*std_adc_non_cancer\n",
    "\n",
    "x_adc_lower_bound = x_adc_cancer_lower_bound if x_adc_cancer_lower_bound < x_adc_non_cancer_lower_bound else x_adc_non_cancer_lower_bound\n",
    "x_adc_upper_bound = x_adc_cancer_upper_bound if x_adc_cancer_upper_bound > x_adc_non_cancer_upper_bound else x_adc_non_cancer_upper_bound\n",
    "\n",
    "x_adc = np.linspace(x_adc_lower_bound, x_adc_upper_bound, 200)\n",
    "\n",
    "y_adc_cancer     = dist.pdf(x_adc,    mu_adc_cancer,    std_adc_cancer)\n",
    "y_adc_non_cancer = dist.pdf(x_adc,mu_adc_non_cancer,std_adc_non_cancer)\n",
    "\n",
    "plt.figure(figsize=(10,7))\n",
    "plt.plot(x_adc,    y_adc_cancer)\n",
    "plt.plot(x_adc,y_adc_non_cancer)\n",
    "plt.title(\"ADC\")\n",
    "plt.xlabel(\"Intensity\")\n",
    "plt.ylabel(\"P( Intensity )\")\n",
    "plt.legend([\"Cancer\",\"Non-cancer\"])\n",
    "plt.show()"
   ]
  },
  {
   "cell_type": "code",
   "execution_count": 324,
   "metadata": {},
   "outputs": [],
   "source": [
    "dist = scipy.stats.norm\n",
    "\n",
    "mu_cdi_cancer,     std_cdi_cancer     = dist.fit(np.log(cdiCancerPixels[cdiCancerPixels>0]))\n",
    "mu_cdi_non_cancer, std_cdi_non_cancer = dist.fit(np.log(cdiNonCancerPixels[cdiNonCancerPixels>0]))\n",
    "\n",
    "x_cdi_cancer_lower_bound = mu_cdi_cancer    -4*std_cdi_cancer\n",
    "x_cdi_cancer_upper_bound = mu_cdi_cancer    +4*std_cdi_cancer\n",
    "x_cdi_non_cancer_lower_bound = mu_cdi_non_cancer - 4*std_cdi_non_cancer\n",
    "x_cdi_non_cancer_upper_bound = mu_cdi_non_cancer + 4*std_cdi_non_cancer\n",
    "\n",
    "x_cdi_lower_bound = x_cdi_cancer_lower_bound if x_cdi_cancer_lower_bound < x_cdi_non_cancer_lower_bound else x_cdi_non_cancer_lower_bound\n",
    "x_cdi_upper_bound = x_cdi_cancer_upper_bound if x_cdi_cancer_upper_bound > x_cdi_non_cancer_upper_bound else x_cdi_non_cancer_upper_bound\n",
    "\n",
    "x_cdi     = np.linspace(x_cdi_lower_bound, x_cdi_upper_bound, 200)\n",
    "\n",
    "y_cdi_cancer     = dist.pdf(x_cdi,    mu_cdi_cancer,    std_cdi_cancer)\n",
    "y_cdi_non_cancer = dist.pdf(x_cdi,mu_cdi_non_cancer,std_cdi_non_cancer)\n",
    "\n",
    "plt.figure(figsize=(10,7))\n",
    "plt.plot(x_cdi,    y_cdi_cancer)\n",
    "plt.plot(x_cdi,y_cdi_non_cancer)\n",
    "plt.title(\"CDI\")\n",
    "plt.xlabel(\"log(Intensity)\")\n",
    "plt.ylabel(\"P( log(Intensity) )\")\n",
    "plt.legend([\"Cancer\",\"Non-cancer\"])\n",
    "plt.show()"
   ]
  },
  {
   "cell_type": "code",
   "execution_count": 325,
   "metadata": {},
   "outputs": [],
   "source": [
    "adc_threshold = x_adc[np.argmin(np.abs(y_adc_cancer / y_adc_non_cancer -1))]\n",
    "cdi_threshold = x_cdi[np.argmin(np.abs(y_cdi_cancer / y_cdi_non_cancer -1))]\n",
    "print(\"ADC Decision boundary:\")\n",
    "print(f'Cancer: x < {adc_threshold} Non-Cancer: x > {adc_threshold}')\n",
    "print(\"CDI Decision boundary:\")\n",
    "print(f'Cancer: x > {cdi_threshold} Non-Cancer: x > {cdi_threshold}')"
   ]
  },
  {
   "cell_type": "markdown",
   "metadata": {},
   "outputs": [],
   "source": [
    "### Confusion Matrix"
   ]
  },
  {
   "cell_type": "code",
   "execution_count": 326,
   "metadata": {},
   "outputs": [],
   "source": [
    "patient_not_found = True\n",
    "for patient in patients_test:\n",
    "    if patient[\"patientID\"] == \"P00000006\":\n",
    "        patient_not_found = False\n",
    "        cdi_prediction = np.zeros(shape=patient[\"pMask\"].shape, dtype=bool)\n",
    "        cdi_threshold = math.exp(cdi_threshold)\n",
    "        cdi_prediction[patient[\"cdi\"] > cdi_threshold] = True\n",
    "        cdi_prediction[patient[\"cdi\"] < cdi_threshold] = False\n",
    "        patient[\"cdiPrediction\"] = cdi_prediction\n",
    "        tn, fp, fn, tp = confusion_matrix(patient[\"pMask\"].flatten(), patient[\"cdiPrediction\"].flatten()).ravel()\n",
    "        print(f'sensitivity = {tp / (tp + fn):.3f} specificity = {tn / (tn + fp):.3f} accuracy = {(tp + tn) / (tp + tn + fp + fn):.3f}')\n",
    "        print(f'tn = {tn} fp = {fp} fn = {fn} tp = {tp}')\n",
    "if patient_not_found:\n",
    "    print(\"patient not found\")"
   ]
  }
 ],
 "metadata": {
  "kernelspec": {
   "display_name": "Python 3",
   "language": "python",
   "name": "python3"
  },
  "language_info": {
   "codemirror_mode": {
    "name": "ipython",
    "version": 3
   },
   "file_extension": ".py",
   "mimetype": "text/x-python",
   "name": "python",
   "nbconvert_exporter": "python",
   "pygments_lexer": "ipython3",
   "version": "3.7.3"
  }
 },
 "nbformat": 4,
 "nbformat_minor": 2
}