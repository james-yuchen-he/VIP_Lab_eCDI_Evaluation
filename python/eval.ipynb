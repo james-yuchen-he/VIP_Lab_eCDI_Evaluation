{
 "cells": [
  {
   "cell_type": "code",
   "execution_count": 9,
   "metadata": {},
   "outputs": [],
   "source": [
    "from ipynb.fs.full.functions import getPatientData, getCancerPixels, getCombinedCancerMask\n",
    "\n",
    "import matplotlib.pyplot as plt\n",
    "import scipy.stats\n",
    "import numpy as np\n",
    "from sklearn.metrics import confusion_matrix\n",
    "from sklearn.model_selection import KFold\n",
    "import math\n",
    "import pdb"
   ]
  },
  {
   "cell_type": "code",
   "execution_count": 10,
   "metadata": {},
   "outputs": [],
   "source": [
    "def train(training_set=None):\n",
    "    assert type(patients == \"numpy.ndarray\"), \"The input parameter must be a numpy array\"\n",
    "    assert training_set.all() != None, \"empty training set\"\n",
    "    assert  len(training_set) != 0, \"empty training set\"\n",
    "    adcCancerPixels,    cdiCancerPixels    = np.array([]), np.array([])\n",
    "    adcNonCancerPixels, cdiNonCancerPixels = np.array([]), np.array([])\n",
    "\n",
    "    for patient in patients:\n",
    "        if patient[\"numTumor\"] != 0:\n",
    "            cancerPixelsTmp = getCancerPixels(patient,\"adc\",True)\n",
    "            adcCancerPixels = np.append(adcCancerPixels, cancerPixelsTmp)\n",
    "            cancerPixelsTmp = getCancerPixels(patient,\"cdi\",True)\n",
    "            cdiCancerPixels = np.append(cdiCancerPixels, cancerPixelsTmp)\n",
    "        nonCancerPixelsTmp = getCancerPixels(patient,\"adc\",False)\n",
    "        adcNonCancerPixels = np.append(adcNonCancerPixels, nonCancerPixelsTmp)\n",
    "        nonCancerPixelsTmp = getCancerPixels(patient,\"cdi\",False)\n",
    "        cdiNonCancerPixels = np.append(cdiNonCancerPixels, nonCancerPixelsTmp)\n",
    "    \n",
    "    dist = scipy.stats.norm\n",
    "    mu_adc_cancer,     std_adc_cancer     = dist.fit(adcCancerPixels)\n",
    "    mu_adc_non_cancer, std_adc_non_cancer = dist.fit(adcNonCancerPixels)\n",
    "\n",
    "    x_adc_cancer_lower_bound = mu_adc_cancer    -4*std_adc_cancer\n",
    "    x_adc_cancer_upper_bound = mu_adc_cancer    +4*std_adc_cancer\n",
    "    x_adc_non_cancer_lower_bound = mu_adc_non_cancer-4*std_adc_non_cancer\n",
    "    x_adc_non_cancer_upper_bound = mu_adc_non_cancer+4*std_adc_non_cancer\n",
    "\n",
    "    x_adc_lower_bound = x_adc_cancer_lower_bound if x_adc_cancer_lower_bound < x_adc_non_cancer_lower_bound else x_adc_non_cancer_lower_bound\n",
    "    x_adc_upper_bound = x_adc_cancer_upper_bound if x_adc_cancer_upper_bound > x_adc_non_cancer_upper_bound else x_adc_non_cancer_upper_bound\n",
    "\n",
    "    x_adc = np.linspace(x_adc_lower_bound, x_adc_upper_bound, 200)\n",
    "\n",
    "    y_adc_cancer     = dist.pdf(x_adc,    mu_adc_cancer,    std_adc_cancer)\n",
    "    y_adc_non_cancer = dist.pdf(x_adc,mu_adc_non_cancer,std_adc_non_cancer)\n",
    "\n",
    "    mu_cdi_cancer,     std_cdi_cancer     = dist.fit(np.log(cdiCancerPixels[cdiCancerPixels>0]))\n",
    "    mu_cdi_non_cancer, std_cdi_non_cancer = dist.fit(np.log(cdiNonCancerPixels[cdiNonCancerPixels>0]))\n",
    "\n",
    "    x_cdi_cancer_lower_bound = mu_cdi_cancer    -4*std_cdi_cancer\n",
    "    x_cdi_cancer_upper_bound = mu_cdi_cancer    +4*std_cdi_cancer\n",
    "    x_cdi_non_cancer_lower_bound = mu_cdi_non_cancer - 4*std_cdi_non_cancer\n",
    "    x_cdi_non_cancer_upper_bound = mu_cdi_non_cancer + 4*std_cdi_non_cancer\n",
    "\n",
    "    x_cdi_lower_bound = x_cdi_cancer_lower_bound if x_cdi_cancer_lower_bound < x_cdi_non_cancer_lower_bound else x_cdi_non_cancer_lower_bound\n",
    "    x_cdi_upper_bound = x_cdi_cancer_upper_bound if x_cdi_cancer_upper_bound > x_cdi_non_cancer_upper_bound else x_cdi_non_cancer_upper_bound\n",
    "\n",
    "    x_cdi     = np.linspace(x_cdi_lower_bound, x_cdi_upper_bound, 200)\n",
    "\n",
    "    y_cdi_cancer     = dist.pdf(x_cdi,    mu_cdi_cancer,    std_cdi_cancer)\n",
    "    y_cdi_non_cancer = dist.pdf(x_cdi,mu_cdi_non_cancer,std_cdi_non_cancer)\n",
    "\n",
    "    adc_threshold = x_adc[np.argmin(np.abs(y_adc_cancer / y_adc_non_cancer -1))]\n",
    "    cdi_threshold = math.exp(x_cdi[np.argmin(np.abs(y_cdi_cancer / y_cdi_non_cancer -1))])\n",
    "    print(\"ADC Decision boundary:\")\n",
    "    print(f'Cancer: x < {adc_threshold} Non-Cancer: x > {adc_threshold}')\n",
    "    print(\"CDI Decision boundary:\")\n",
    "    print(f'Cancer: x > {cdi_threshold} Non-Cancer: x > {cdi_threshold}')\n",
    "\n",
    "    return adc_threshold, cdi_threshold"
   ]
  },
  {
   "cell_type": "code",
   "execution_count": 11,
   "metadata": {},
   "outputs": [],
   "source": [
    "def evaluate(test_set, adc_threshold, cdi_threshold):\n",
    "    cdi_cm = np.zeros(dtype=float,shape=(2,2))\n",
    "    adc_cm = np.zeros(dtype=float,shape=(2,2))\n",
    "    for patient in test_set:\n",
    "        cdi_prediction = np.zeros(shape=patient[\"pMask\"].shape, dtype=bool)\n",
    "        cdi_prediction[patient[\"cdi\"] > cdi_threshold] = True\n",
    "        cdi_prediction[patient[\"cdi\"] < cdi_threshold] = False\n",
    "        cdi_cm += confusion_matrix(patient[\"pMask\"].flatten(), cdi_prediction.flatten())\n",
    "        \n",
    "        adc_prediction = np.zeros(shape=patient[\"pMask\"].shape, dtype=bool)\n",
    "        adc_prediction[patient[\"adc\"] > adc_threshold] = False\n",
    "        adc_prediction[patient[\"adc\"] < adc_threshold] = True\n",
    "        adc_cm += confusion_matrix(patient[\"pMask\"].flatten(), adc_prediction.flatten())\n",
    "    return adc_cm, cdi_cm"
   ]
  },
  {
   "cell_type": "code",
   "execution_count": 12,
   "metadata": {},
   "outputs": [
    {
     "name": "stdout",
     "output_type": "stream",
     "text": [
      "ADC Decision boundary:\n",
      "Cancer: x < 1197.0419599111015 Non-Cancer: x > 1197.0419599111015\n",
      "CDI Decision boundary:\n",
      "Cancer: x > 0.012439345333623786 Non-Cancer: x > 0.012439345333623786\n",
      "ADC Decision boundary:\n",
      "Cancer: x < 1197.0419599111015 Non-Cancer: x > 1197.0419599111015\n",
      "CDI Decision boundary:\n",
      "Cancer: x > 0.012439345333623786 Non-Cancer: x > 0.012439345333623786\n",
      "ADC Decision boundary:\n",
      "Cancer: x < 1197.0419599111015 Non-Cancer: x > 1197.0419599111015\n",
      "CDI Decision boundary:\n",
      "Cancer: x > 0.012439345333623786 Non-Cancer: x > 0.012439345333623786\n",
      "ADC Decision boundary:\n",
      "Cancer: x < 1197.0419599111015 Non-Cancer: x > 1197.0419599111015\n",
      "CDI Decision boundary:\n",
      "Cancer: x > 0.012439345333623786 Non-Cancer: x > 0.012439345333623786\n",
      "ADC Decision boundary:\n",
      "Cancer: x < 1197.0419599111015 Non-Cancer: x > 1197.0419599111015\n",
      "CDI Decision boundary:\n",
      "Cancer: x > 0.012439345333623786 Non-Cancer: x > 0.012439345333623786\n",
      "ADC:\n",
      "sensitivity = 0.222 specificity = 0.136 accuracy = 0.137\n",
      "CDI:\n",
      "sensitivity = 0.229 specificity = 0.850 accuracy = 0.841\n"
     ]
    }
   ],
   "source": [
    "[patients, numPatients, numPatientsWithTumor] = getPatientData()\n",
    "patients = np.array([item for item in patients if item[\"patientID\"] != \"P00000249\"])\n",
    "adc_confusion_matrix_sum = np.zeros(shape=(2,2))\n",
    "cdi_confusion_matrix_sum = np.zeros(shape=(2,2))\n",
    "\n",
    "kf = KFold(n_splits=5, shuffle=True)\n",
    "\n",
    "for patients_train_index, patients_test_index in kf.split(patients):\n",
    "    adc_threshold, cdi_threshold = train(patients[patients_train_index])\n",
    "    adc_confusion_matrix, cdi_confusion_matrix = evaluate(patients[patients_test_index],adc_threshold, cdi_threshold)\n",
    "    adc_confusion_matrix_sum += adc_confusion_matrix\n",
    "    cdi_confusion_matrix_sum += cdi_confusion_matrix\n",
    "    \n",
    "adc_sensitivity = adc_confusion_matrix[1,1] / (adc_confusion_matrix[1,1] + adc_confusion_matrix[1,0])\n",
    "adc_specificity = adc_confusion_matrix[0,0] / (adc_confusion_matrix[0,0] + adc_confusion_matrix[0,1])\n",
    "adc_accuracy = (adc_confusion_matrix[0,0] + adc_confusion_matrix[1,1])/(np.sum(adc_confusion_matrix))\n",
    "print(\"ADC:\")\n",
    "print(f'sensitivity = {adc_sensitivity:.3f} specificity = {adc_specificity:.3f} accuracy = {adc_accuracy:.3f}')\n",
    "\n",
    "cdi_sensitivity = cdi_confusion_matrix[1,1] / (cdi_confusion_matrix[1,1] + cdi_confusion_matrix[1,0])\n",
    "cdi_specificity = cdi_confusion_matrix[0,0] / (cdi_confusion_matrix[0,0] + cdi_confusion_matrix[0,1])\n",
    "cdi_accuracy = (cdi_confusion_matrix[0,0] + cdi_confusion_matrix[1,1])/(np.sum(cdi_confusion_matrix))\n",
    "print(\"CDI:\")\n",
    "print(f'sensitivity = {cdi_sensitivity:.3f} specificity = {cdi_specificity:.3f} accuracy = {cdi_accuracy:.3f}')\n"
   ]
  },
  {
   "cell_type": "markdown",
   "metadata": {},
   "source": [
    "### Confusion Matrix"
   ]
  },
  {
   "cell_type": "code",
   "execution_count": null,
   "metadata": {},
   "outputs": [],
   "source": []
  }
 ],
 "metadata": {
  "kernelspec": {
   "display_name": "Python 3",
   "language": "python",
   "name": "python3"
  },
  "language_info": {
   "codemirror_mode": {
    "name": "ipython",
    "version": 3
   },
   "file_extension": ".py",
   "mimetype": "text/x-python",
   "name": "python",
   "nbconvert_exporter": "python",
   "pygments_lexer": "ipython3",
   "version": "3.7.3"
  }
 },
 "nbformat": 4,
 "nbformat_minor": 2
}
