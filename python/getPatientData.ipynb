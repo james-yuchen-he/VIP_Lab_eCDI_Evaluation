{
 "cells": [
  {
   "cell_type": "code",
   "execution_count": 42,
   "metadata": {},
   "outputs": [],
   "source": [
    "import os.path\n",
    "import scipy.io\n",
    "import numpy as np"
   ]
  },
  {
   "cell_type": "markdown",
   "metadata": {},
   "source": [
    "### Folder Structure\n",
    "\n",
    "All analyses are done in Jupyter Notebooks which can be found in the folder `analysis`\n",
    "\n",
    "This folder should be in the `UW` folder, and have the sibling directory `100_original_anonymized_images_ExportedMatlab`. The following three (3) files should also be found in at this level:\n",
    "* `patientID.mat`\n",
    "* `posID.mat`\n",
    "* `!ReadMe.txt`"
   ]
  },
  {
   "cell_type": "code",
   "execution_count": 143,
   "metadata": {},
   "outputs": [],
   "source": [
    "def getPatientData():\n",
    "    \"\"\"\n",
    "    Read the data from the stray .mat files and store it in a\n",
    "    list of dictionaries, with each list element containing a patient\n",
    "    e.g.\n",
    "        patients = \n",
    "    \n",
    "        1x104 list with each entry being a dict with fields:\n",
    "        \n",
    "            adc       | (144x144x26) ndarray uint16\n",
    "            cdi       | (144x144x26) ndarray float64\n",
    "            pMask     | (144x144x26) ndarray bool\n",
    "            numTumor  | int\n",
    "            patientID | str\n",
    "            tumors    | dict\n",
    "            \n",
    "        patients[2]['tumors'] = \n",
    "        \n",
    "        a dict with fields:\n",
    "        \n",
    "            gleasonScore | list of int\n",
    "            lesion       | list of (144x144x26) ndarray bool\n",
    "    \n",
    "    \"\"\"\n",
    "    patientID = scipy.io.loadmat('../patientID.mat')['patientID']\n",
    "    numPatients = len(patientID)\n",
    "\n",
    "    patientIDWithTumor = scipy.io.loadmat('../posID.mat')['caseID']\n",
    "    numPatientsWithTumor = len(patientIDWithTumor)\n",
    "    \n",
    "    patients = [dict() for x in range(numPatients)]\n",
    "    \n",
    "    for i in range(numPatients):\n",
    "        path = \"../100_original_anonymized_images_ExportedMatlab/\" + patientID[i] + '/'\n",
    "        patients[i] = {\n",
    "            \"adc\": scipy.io.loadmat(path + 'ADC_' + patientID[i] + '.mat')['ADC'],\n",
    "            \"cdi\": scipy.io.loadmat(path + 'CDI_matlab_' + patientID[i] + '.mat')['CDI_matlab'],\n",
    "            \"pMask\": np.array(scipy.io.loadmat(path + 'PMask0_' + patientID[i] + '.mat')['Mask0'],dtype=bool),\n",
    "            \"numTumor\": 0,\n",
    "            \"patientID\": patientID[i]\n",
    "        }\n",
    "        lesionFilePath = path + 'Lesion_' + patientID[i] + '.mat'\n",
    "        if os.path.exists(lesionFilePath):\n",
    "            lesionData = scipy.io.loadmat(lesionFilePath)['Lesion']\n",
    "            lesionInfo = scipy.io.loadmat(path + 'Lesion_info_' + patientID[i] + '.mat')['Lesion_info']\n",
    "            patients[i][\"numTumor\"] = len(lesionInfo[0])\n",
    "            patients[i][\"tumors\"] = {\n",
    "                \"gleasonScore\": [lesionInfo[0][j] for j in range(len(lesionInfo[0]))],\n",
    "                \"lesion\": [np.array(lesionData[0][j],dtype=bool) for j in range(len(lesionInfo[0]))]\n",
    "            }\n",
    "    return [patients, numPatients, numPatientsWithTumor]"
   ]
  },
  {
   "cell_type": "code",
   "execution_count": 126,
   "metadata": {},
   "outputs": [],
   "source": [
    "[patients, numPatients, numPatientsWithTumor] = getPatientData()"
   ]
  },
  {
   "cell_type": "code",
   "execution_count": 144,
   "metadata": {},
   "outputs": [
    {
     "name": "stdout",
     "output_type": "stream",
     "text": [
      "Help on function getPatientData in module __main__:\n",
      "\n",
      "getPatientData()\n",
      "    Read the data from the stray .mat files and store it in a\n",
      "    list of dictionaries, with each list element containing a patient\n",
      "    e.g.\n",
      "        patients = \n",
      "    \n",
      "        1x104 list with each entry being a dict with fields:\n",
      "        \n",
      "            adc       | (144x144x26) uint16\n",
      "            cdi       | (144x144x26) float64\n",
      "            pMask     | (144x144x26) bool\n",
      "            numTumor  | int\n",
      "            patientID | str\n",
      "            tumors    | dict\n",
      "            \n",
      "        patients[2]['tumors'] = \n",
      "        \n",
      "        a dict with fields:\n",
      "        \n",
      "            gleasonScore | list of int\n",
      "            lesion       | list of (144x144x26) bool\n",
      "\n"
     ]
    }
   ],
   "source": [
    "help(getPatientData)"
   ]
  },
  {
   "cell_type": "code",
   "execution_count": null,
   "metadata": {},
   "outputs": [],
   "source": []
  }
 ],
 "metadata": {
  "kernelspec": {
   "display_name": "Python 3",
   "language": "python",
   "name": "python3"
  },
  "language_info": {
   "codemirror_mode": {
    "name": "ipython",
    "version": 3
   },
   "file_extension": ".py",
   "mimetype": "text/x-python",
   "name": "python",
   "nbconvert_exporter": "python",
   "pygments_lexer": "ipython3",
   "version": "3.7.1"
  }
 },
 "nbformat": 4,
 "nbformat_minor": 2
}
